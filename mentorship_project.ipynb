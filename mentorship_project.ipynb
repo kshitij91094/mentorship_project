{
 "cells": [
  {
   "cell_type": "markdown",
   "id": "7bb7811c-8a4d-47fc-a2b9-9101d03dd4de",
   "metadata": {},
   "source": [
    "import pandas liberary"
   ]
  },
  {
   "cell_type": "code",
   "execution_count": 10,
   "id": "061adc80-c56e-480a-9240-fe15e29d33de",
   "metadata": {},
   "outputs": [],
   "source": [
    "import pandas as pd\n",
    "rdata = pd.read_csv('rdata.csv')"
   ]
  },
  {
   "cell_type": "code",
   "execution_count": 5,
   "id": "e6ad86a8-cfd6-4b89-96cd-5993e780ed2d",
   "metadata": {},
   "outputs": [
    {
     "data": {
      "text/html": [
       "<div>\n",
       "<style scoped>\n",
       "    .dataframe tbody tr th:only-of-type {\n",
       "        vertical-align: middle;\n",
       "    }\n",
       "\n",
       "    .dataframe tbody tr th {\n",
       "        vertical-align: top;\n",
       "    }\n",
       "\n",
       "    .dataframe thead th {\n",
       "        text-align: right;\n",
       "    }\n",
       "</style>\n",
       "<table border=\"1\" class=\"dataframe\">\n",
       "  <thead>\n",
       "    <tr style=\"text-align: right;\">\n",
       "      <th></th>\n",
       "      <th>attrition</th>\n",
       "      <th>performance_rating</th>\n",
       "      <th>sales_quota_pct</th>\n",
       "      <th>recruiting_source</th>\n",
       "    </tr>\n",
       "  </thead>\n",
       "  <tbody>\n",
       "    <tr>\n",
       "      <th>0</th>\n",
       "      <td>0.000707</td>\n",
       "      <td>2.976686</td>\n",
       "      <td>0.604739</td>\n",
       "      <td>Applied Online</td>\n",
       "    </tr>\n",
       "    <tr>\n",
       "      <th>1</th>\n",
       "      <td>-0.019452</td>\n",
       "      <td>2.989157</td>\n",
       "      <td>0.396567</td>\n",
       "      <td>NaN</td>\n",
       "    </tr>\n",
       "    <tr>\n",
       "      <th>2</th>\n",
       "      <td>-0.009998</td>\n",
       "      <td>2.993355</td>\n",
       "      <td>0.206242</td>\n",
       "      <td>Applied Online</td>\n",
       "    </tr>\n",
       "    <tr>\n",
       "      <th>3</th>\n",
       "      <td>-0.003004</td>\n",
       "      <td>1.989966</td>\n",
       "      <td>-0.475037</td>\n",
       "      <td>NaN</td>\n",
       "    </tr>\n",
       "    <tr>\n",
       "      <th>4</th>\n",
       "      <td>-0.025405</td>\n",
       "      <td>3.016559</td>\n",
       "      <td>0.345470</td>\n",
       "      <td>Campus</td>\n",
       "    </tr>\n",
       "  </tbody>\n",
       "</table>\n",
       "</div>"
      ],
      "text/plain": [
       "   attrition  performance_rating  sales_quota_pct recruiting_source\n",
       "0   0.000707            2.976686         0.604739    Applied Online\n",
       "1  -0.019452            2.989157         0.396567               NaN\n",
       "2  -0.009998            2.993355         0.206242    Applied Online\n",
       "3  -0.003004            1.989966        -0.475037               NaN\n",
       "4  -0.025405            3.016559         0.345470            Campus"
      ]
     },
     "execution_count": 5,
     "metadata": {},
     "output_type": "execute_result"
    }
   ],
   "source": [
    "rdata.head()"
   ]
  },
  {
   "cell_type": "markdown",
   "id": "fcfd5ba2-9d4a-404e-b335-2893f36999f5",
   "metadata": {},
   "source": [
    "### Calculating the average Sales Numbers and Attrition Numbers grouped by 'recruiting_source'\n"
   ]
  },
  {
   "cell_type": "code",
   "execution_count": 9,
   "id": "b5c5c380-0a82-4e20-9914-5ae8ffce2c9a",
   "metadata": {},
   "outputs": [
    {
     "data": {
      "text/html": [
       "<div>\n",
       "<style scoped>\n",
       "    .dataframe tbody tr th:only-of-type {\n",
       "        vertical-align: middle;\n",
       "    }\n",
       "\n",
       "    .dataframe tbody tr th {\n",
       "        vertical-align: top;\n",
       "    }\n",
       "\n",
       "    .dataframe thead th {\n",
       "        text-align: right;\n",
       "    }\n",
       "</style>\n",
       "<table border=\"1\" class=\"dataframe\">\n",
       "  <thead>\n",
       "    <tr style=\"text-align: right;\">\n",
       "      <th></th>\n",
       "      <th>recruiting_source</th>\n",
       "      <th>sales_quota_pct</th>\n",
       "      <th>attrition</th>\n",
       "    </tr>\n",
       "  </thead>\n",
       "  <tbody>\n",
       "    <tr>\n",
       "      <th>0</th>\n",
       "      <td>Applied Online</td>\n",
       "      <td>1.080959</td>\n",
       "      <td>0.213370</td>\n",
       "    </tr>\n",
       "    <tr>\n",
       "      <th>1</th>\n",
       "      <td>Campus</td>\n",
       "      <td>1.076408</td>\n",
       "      <td>0.215109</td>\n",
       "    </tr>\n",
       "    <tr>\n",
       "      <th>2</th>\n",
       "      <td>Referral</td>\n",
       "      <td>1.075538</td>\n",
       "      <td>0.214920</td>\n",
       "    </tr>\n",
       "    <tr>\n",
       "      <th>3</th>\n",
       "      <td>Search Firm</td>\n",
       "      <td>1.103426</td>\n",
       "      <td>0.208177</td>\n",
       "    </tr>\n",
       "  </tbody>\n",
       "</table>\n",
       "</div>"
      ],
      "text/plain": [
       "  recruiting_source  sales_quota_pct  attrition\n",
       "0    Applied Online         1.080959   0.213370\n",
       "1            Campus         1.076408   0.215109\n",
       "2          Referral         1.075538   0.214920\n",
       "3       Search Firm         1.103426   0.208177"
      ]
     },
     "execution_count": 9,
     "metadata": {},
     "output_type": "execute_result"
    }
   ],
   "source": [
    "# Grouping by 'recruiting_source' to get average sales_quota_pct and attrition\n",
    "average_sales_attrition = rdata.groupby('recruiting_source').agg({\n",
    "    'sales_quota_pct': 'mean',\n",
    "    'attrition': 'mean'\n",
    "}).reset_index()\n",
    "\n",
    "# Displaying the results to check the average Sales and Attrition numbers\n",
    "average_sales_attrition"
   ]
  },
  {
   "cell_type": "code",
   "execution_count": null,
   "id": "7a0eca29-b89e-4dd1-bf09-c9f677728892",
   "metadata": {},
   "outputs": [],
   "source": [
    "We are looking for sources that have high Sales numbers and low Attrition numbers so Search Firm "
   ]
  }
 ],
 "metadata": {
  "kernelspec": {
   "display_name": "Python 3 (ipykernel)",
   "language": "python",
   "name": "python3"
  },
  "language_info": {
   "codemirror_mode": {
    "name": "ipython",
    "version": 3
   },
   "file_extension": ".py",
   "mimetype": "text/x-python",
   "name": "python",
   "nbconvert_exporter": "python",
   "pygments_lexer": "ipython3",
   "version": "3.11.5"
  }
 },
 "nbformat": 4,
 "nbformat_minor": 5
}
